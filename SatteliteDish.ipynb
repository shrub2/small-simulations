{
 "cells": [
  {
   "cell_type": "code",
   "execution_count": 3,
   "id": "bf4f9399-39ed-4ea8-a1d2-bafc8a14ad9a",
   "metadata": {},
   "outputs": [
    {
     "name": "stdin",
     "output_type": "stream",
     "text": [
      "Insert alpha angle:  1\n",
      "Insert theta angle:  61\n"
     ]
    },
    {
     "name": "stdout",
     "output_type": "stream",
     "text": [
      "[1, 61]\n"
     ]
    }
   ],
   "source": [
    "# alpha always starts as 0\n",
    "alpha = 0\n",
    "# theta ranges from 30 to 90\n",
    "theta = 60\n",
    "\n",
    "position = [alpha, theta]\n",
    "\n",
    "alpha_input = int(input(\"Insert alpha angle: \"))\n",
    "theta_input = int(input(\"Insert theta angle: \"))\n",
    "\n",
    "input_position = [alpha_input, theta_input]\n",
    "\n",
    "def azimuth(alpha, alpha_input):\n",
    "    if alpha_input == alpha:\n",
    "        return alpha\n",
    "    elif alpha_input < 180:\n",
    "        alpha = alpha + 1\n",
    "    else:\n",
    "        if alpha == 0:\n",
    "            alpha = 360\n",
    "        alpha = alpha - 1\n",
    "    return alpha\n",
    "\n",
    "def elevation(theta, theta_input):\n",
    "    if theta == theta_input:\n",
    "        return theta\n",
    "    elif theta < theta_input:\n",
    "        theta = theta + 1\n",
    "    else:\n",
    "        theta = theta - 1\n",
    "    return theta\n",
    "\n",
    "while(position != input_position):\n",
    "    alpha = azimuth(alpha, alpha_input)\n",
    "    theta = elevation(theta, theta_input)\n",
    "    position = [alpha, theta]\n",
    "    print(position)"
   ]
  }
 ],
 "metadata": {
  "kernelspec": {
   "display_name": "Python 3 (ipykernel)",
   "language": "python",
   "name": "python3"
  },
  "language_info": {
   "codemirror_mode": {
    "name": "ipython",
    "version": 3
   },
   "file_extension": ".py",
   "mimetype": "text/x-python",
   "name": "python",
   "nbconvert_exporter": "python",
   "pygments_lexer": "ipython3",
   "version": "3.10.6"
  }
 },
 "nbformat": 4,
 "nbformat_minor": 5
}
